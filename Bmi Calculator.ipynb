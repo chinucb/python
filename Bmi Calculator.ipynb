{
 "cells": [
  {
   "cell_type": "markdown",
   "id": "9de79513-3f23-41e2-abf7-9d97690f1472",
   "metadata": {},
   "source": [
    "# Body Mass Calculator"
   ]
  },
  {
   "cell_type": "code",
   "execution_count": 1,
   "id": "1f2dea31-2bfb-4ee9-818c-7ae0434923ce",
   "metadata": {},
   "outputs": [
    {
     "name": "stdin",
     "output_type": "stream",
     "text": [
      "Enter Your Name: rishik\n",
      "Enter your weight in pounds: 67\n",
      "Enter your height in inches 56\n"
     ]
    },
    {
     "name": "stdout",
     "output_type": "stream",
     "text": [
      "My BMI is:  15.019451530612244\n",
      "rishik,You are Under Weight.\n"
     ]
    }
   ],
   "source": [
    "Name=input(\"Enter Your Name:\")\n",
    "Weight=int(input(\"Enter your weight in pounds:\"))\n",
    "\n",
    "Height=int(input(\"Enter your height in inches\"))\n",
    "BMI= (Weight *703) / (Height * Height)\n",
    "print(\"My BMI is: \",BMI)\n",
    "if BMI>0:\n",
    "    if (BMI<18.5):\n",
    "        print(Name+\",You are Under Weight.\")\n",
    "    elif (BMI<=24.9):\n",
    "        print(Name+\",You are Normal Weight.\")\n",
    "    elif (BMI<29.9):\n",
    "        print(Name+\",You are Obese.\")\n",
    "    elif(BMI<34.9):\n",
    "        print(Name+\",You are Severly obese.\")\n",
    "    else:\n",
    "        print(Name+\",You are Morely obese.\")\n",
    "\n",
    "else:\n",
    "    print(\"Please Put Valid Input\")"
   ]
  },
  {
   "cell_type": "code",
   "execution_count": 6,
   "id": "a646bea6-e09b-4ebb-9715-444213a88fa2",
   "metadata": {},
   "outputs": [
    {
     "name": "stdout",
     "output_type": "stream",
     "text": [
      "170\n"
     ]
    }
   ],
   "source": [
    "print(Weight)"
   ]
  },
  {
   "cell_type": "code",
   "execution_count": null,
   "id": "72c77136-09c5-4d70-9de3-30f44ce6e35a",
   "metadata": {},
   "outputs": [],
   "source": []
  },
  {
   "cell_type": "code",
   "execution_count": null,
   "id": "34b1521d-c897-42d4-a2ea-dd789717a5e7",
   "metadata": {},
   "outputs": [],
   "source": []
  },
  {
   "cell_type": "code",
   "execution_count": null,
   "id": "d44d4ef5-4dab-490e-890a-1ac2a71d9b05",
   "metadata": {},
   "outputs": [],
   "source": []
  },
  {
   "cell_type": "code",
   "execution_count": null,
   "id": "9820a584-44cd-434b-91cc-098322698817",
   "metadata": {},
   "outputs": [],
   "source": []
  }
 ],
 "metadata": {
  "kernelspec": {
   "display_name": "Python 3 (ipykernel)",
   "language": "python",
   "name": "python3"
  },
  "language_info": {
   "codemirror_mode": {
    "name": "ipython",
    "version": 3
   },
   "file_extension": ".py",
   "mimetype": "text/x-python",
   "name": "python",
   "nbconvert_exporter": "python",
   "pygments_lexer": "ipython3",
   "version": "3.12.2"
  }
 },
 "nbformat": 4,
 "nbformat_minor": 5
}
